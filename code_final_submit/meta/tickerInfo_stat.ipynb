{
 "cells": [
  {
   "cell_type": "code",
   "execution_count": 1,
   "metadata": {
    "collapsed": true
   },
   "outputs": [],
   "source": [
    "import json"
   ]
  },
  {
   "cell_type": "code",
   "execution_count": 2,
   "metadata": {
    "collapsed": true
   },
   "outputs": [],
   "source": [
    "with open(\"tickerInfo.json\", 'r') as j:\n",
    "    tickerInfo = json.load(j)"
   ]
  },
  {
   "cell_type": "code",
   "execution_count": 10,
   "metadata": {
    "collapsed": false
   },
   "outputs": [],
   "source": [
    "sector = {}\n",
    "for each in tickerInfo:\n",
    "    if 'sector' in each:\n",
    "        if each['sector'] not in sector:\n",
    "            sector[each['sector']] = 1\n",
    "        else:\n",
    "            sector[each['sector']] += 1"
   ]
  },
  {
   "cell_type": "code",
   "execution_count": 11,
   "metadata": {
    "collapsed": false
   },
   "outputs": [
    {
     "data": {
      "text/plain": [
       "{'Basic Materials': 519,\n",
       " 'Conglomerates': 32,\n",
       " 'Consumer Goods': 348,\n",
       " 'Financial': 1437,\n",
       " 'Healthcare': 645,\n",
       " 'Industrial Goods': 330,\n",
       " 'Services': 759,\n",
       " 'Technology': 726,\n",
       " 'Utilities': 116}"
      ]
     },
     "execution_count": 11,
     "metadata": {},
     "output_type": "execute_result"
    }
   ],
   "source": [
    "sector"
   ]
  },
  {
   "cell_type": "code",
   "execution_count": 15,
   "metadata": {
    "collapsed": true
   },
   "outputs": [],
   "source": [
    "category = {}\n",
    "for each in tickerInfo:\n",
    "    if 'category' in each:\n",
    "        if each['category'] not in category:\n",
    "            category[each['category']] = 1\n",
    "        else:\n",
    "            category[each['category']] += 1"
   ]
  },
  {
   "cell_type": "code",
   "execution_count": 17,
   "metadata": {
    "collapsed": false
   },
   "outputs": [
    {
     "data": {
      "text/plain": [
       "{'Aerospace/Defense',\n",
       " 'Automotive',\n",
       " 'Banking',\n",
       " 'Chemicals',\n",
       " 'Computer Hardware',\n",
       " 'Computer Software & Services',\n",
       " 'Conglomerates',\n",
       " 'Consumer Durables',\n",
       " 'Consumer NonDurables',\n",
       " 'Diversified Services',\n",
       " 'Drugs',\n",
       " 'Electronics',\n",
       " 'Energy',\n",
       " 'Financial Services',\n",
       " 'Food & Beverage',\n",
       " 'Health Services',\n",
       " 'Insurance',\n",
       " 'Internet',\n",
       " 'Leisure',\n",
       " 'Manufacturing',\n",
       " 'Materials & Construction',\n",
       " 'Media',\n",
       " 'Metals & Mining',\n",
       " 'Real Estate',\n",
       " 'Retail',\n",
       " 'Specialty Retail',\n",
       " 'Telecommunications',\n",
       " 'Tobacco',\n",
       " 'Transportation',\n",
       " 'Utilities',\n",
       " 'Wholesale'}"
      ]
     },
     "execution_count": 17,
     "metadata": {},
     "output_type": "execute_result"
    }
   ],
   "source": [
    "set(category)\n"
   ]
  },
  {
   "cell_type": "code",
   "execution_count": null,
   "metadata": {
    "collapsed": true
   },
   "outputs": [],
   "source": []
  }
 ],
 "metadata": {
  "kernelspec": {
   "display_name": "Python 3",
   "language": "python",
   "name": "python3"
  },
  "language_info": {
   "codemirror_mode": {
    "name": "ipython",
    "version": 3
   },
   "file_extension": ".py",
   "mimetype": "text/x-python",
   "name": "python",
   "nbconvert_exporter": "python",
   "pygments_lexer": "ipython3",
   "version": "3.6.0"
  }
 },
 "nbformat": 4,
 "nbformat_minor": 2
}
